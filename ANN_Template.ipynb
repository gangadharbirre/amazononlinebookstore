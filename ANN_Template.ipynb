{
  "nbformat": 4,
  "nbformat_minor": 0,
  "metadata": {
    "colab": {
      "name": "ANN Template.ipynb",
      "provenance": [],
      "include_colab_link": true
    },
    "kernelspec": {
      "name": "python3",
      "display_name": "Python 3"
    }
  },
  "cells": [
    {
      "cell_type": "markdown",
      "metadata": {
        "id": "view-in-github",
        "colab_type": "text"
      },
      "source": [
        "<a href=\"https://colab.research.google.com/github/gangadharbirre/amazononlinebookstore/blob/main/ANN_Template.ipynb\" target=\"_parent\"><img src=\"https://colab.research.google.com/assets/colab-badge.svg\" alt=\"Open In Colab\"/></a>"
      ]
    },
    {
      "cell_type": "markdown",
      "metadata": {
        "id": "Z-jZGC0q0aiY"
      },
      "source": [
        "# Deep Learning via ANN"
      ]
    },
    {
      "cell_type": "markdown",
      "metadata": {
        "id": "jE4Rc_OO0eJM"
      },
      "source": [
        "## Importing libraries"
      ]
    },
    {
      "cell_type": "code",
      "metadata": {
        "id": "PTBjYh8iyvVK"
      },
      "source": [
        "import numpy as np\n",
        "import pandas as pd\n",
        "import tensorflow as tf"
      ],
      "execution_count": 1,
      "outputs": []
    },
    {
      "cell_type": "code",
      "metadata": {
        "colab": {
          "base_uri": "https://localhost:8080/",
          "height": 35
        },
        "id": "o0Yhbfo4x39t",
        "outputId": "1cff3c46-d090-491a-9e64-6e82a0b6bd75"
      },
      "source": [
        "tf.__version__"
      ],
      "execution_count": null,
      "outputs": [
        {
          "output_type": "execute_result",
          "data": {
            "application/vnd.google.colaboratory.intrinsic+json": {
              "type": "string"
            },
            "text/plain": [
              "'2.4.1'"
            ]
          },
          "metadata": {
            "tags": []
          },
          "execution_count": 2
        }
      ]
    },
    {
      "cell_type": "markdown",
      "metadata": {
        "id": "A9-xGHd20gY1"
      },
      "source": [
        "## Importing dataset"
      ]
    },
    {
      "cell_type": "code",
      "metadata": {
        "id": "IeX0-BBoyxsw"
      },
      "source": [
        "dataset = pd.read_csv('American Express User Exit Prediction.csv')\n",
        "X = dataset.iloc[:, 0:-1].values\n",
        "y = dataset.iloc[:, -1].values"
      ],
      "execution_count": 3,
      "outputs": []
    },
    {
      "cell_type": "code",
      "metadata": {
        "colab": {
          "base_uri": "https://localhost:8080/"
        },
        "id": "WAFCffJ-06iL",
        "outputId": "09509d5f-8452-468c-810d-6b8076fbd1aa"
      },
      "source": [
        "print(X)"
      ],
      "execution_count": 4,
      "outputs": [
        {
          "output_type": "stream",
          "name": "stdout",
          "text": [
            "[[553.0 'Delhi' 'Female' ... 4.0 1.0 274150.0]\n",
            " [447.0 'Bengaluru' 'Male' ... 4.0 1.0 519360.0]\n",
            " [501.0 'Delhi' 'Female' ... 4.0 1.0 545501.0]\n",
            " ...\n",
            " [553.0 'Delhi' 'Male' ... 4.0 1.0 180031.0]\n",
            " [nan nan nan ... nan nan nan]\n",
            " [nan nan nan ... nan nan nan]]\n"
          ]
        }
      ]
    },
    {
      "cell_type": "markdown",
      "metadata": {
        "id": "Q_e8LuHYyX5r"
      },
      "source": [
        "## Encoding categorical data"
      ]
    },
    {
      "cell_type": "markdown",
      "metadata": {
        "id": "NFKMHJzhy4pE"
      },
      "source": [
        "### Gender column : Label Encoding"
      ]
    },
    {
      "cell_type": "code",
      "metadata": {
        "id": "_P_m9jU0yr1A"
      },
      "source": [
        "from sklearn.preprocessing import LabelEncoder\n",
        "label_encoder = LabelEncoder()\n",
        "X[:, 2] = label_encoder.fit_transform(X[:, 2])"
      ],
      "execution_count": 5,
      "outputs": []
    },
    {
      "cell_type": "code",
      "metadata": {
        "colab": {
          "base_uri": "https://localhost:8080/"
        },
        "id": "biOnK7s2yvt-",
        "outputId": "7d4be78b-16a5-4820-b957-c0d88b4fc1ed"
      },
      "source": [
        "print(X)"
      ],
      "execution_count": 6,
      "outputs": [
        {
          "output_type": "stream",
          "name": "stdout",
          "text": [
            "[[553.0 'Delhi' 0 ... 4.0 1.0 274150.0]\n",
            " [447.0 'Bengaluru' 1 ... 4.0 1.0 519360.0]\n",
            " [501.0 'Delhi' 0 ... 4.0 1.0 545501.0]\n",
            " ...\n",
            " [553.0 'Delhi' 1 ... 4.0 1.0 180031.0]\n",
            " [nan nan 2 ... nan nan nan]\n",
            " [nan nan 2 ... nan nan nan]]\n"
          ]
        }
      ]
    },
    {
      "cell_type": "markdown",
      "metadata": {
        "id": "W27VpQo7zRUo"
      },
      "source": [
        "### Geography column : One hot Encoding"
      ]
    },
    {
      "cell_type": "code",
      "metadata": {
        "id": "-2TRCRO8zVly"
      },
      "source": [
        "from sklearn.compose import ColumnTransformer\n",
        "from sklearn.preprocessing import OneHotEncoder\n",
        "ct = ColumnTransformer(transformers=[('encoder', OneHotEncoder(), [1])], remainder='passthrough')\n",
        "X = np.array(ct.fit_transform(X))"
      ],
      "execution_count": 7,
      "outputs": []
    },
    {
      "cell_type": "code",
      "metadata": {
        "colab": {
          "base_uri": "https://localhost:8080/"
        },
        "id": "Lt13uSQ8ziR4",
        "outputId": "31140550-0d72-4392-e0af-2bbb37cdc4d4"
      },
      "source": [
        "print(X)"
      ],
      "execution_count": 8,
      "outputs": [
        {
          "output_type": "stream",
          "name": "stdout",
          "text": [
            "[[0.0 1.0 0.0 ... 4.0 1.0 274150.0]\n",
            " [1.0 0.0 0.0 ... 4.0 1.0 519360.0]\n",
            " [0.0 1.0 0.0 ... 4.0 1.0 545501.0]\n",
            " ...\n",
            " [0.0 1.0 0.0 ... 4.0 1.0 180031.0]\n",
            " [0.0 0.0 0.0 ... nan nan nan]\n",
            " [0.0 0.0 0.0 ... nan nan nan]]\n"
          ]
        }
      ]
    },
    {
      "cell_type": "markdown",
      "metadata": {
        "id": "8REFJFGC0lRN"
      },
      "source": [
        "## Splitting dataset into Training & Test set"
      ]
    },
    {
      "cell_type": "code",
      "metadata": {
        "id": "Cs6amFsNy4Ri"
      },
      "source": [
        "from sklearn.model_selection import train_test_split\n",
        "X_train, X_test, y_train, y_test = train_test_split(X, y, test_size = 0.2, random_state = 0)"
      ],
      "execution_count": 9,
      "outputs": []
    },
    {
      "cell_type": "markdown",
      "metadata": {
        "id": "9WJ3OvMf2Mpz"
      },
      "source": [
        "## Feature Scaling"
      ]
    },
    {
      "cell_type": "code",
      "metadata": {
        "id": "_lPukZ7C2PYR"
      },
      "source": [
        "from sklearn.preprocessing import StandardScaler\n",
        "sc = StandardScaler()\n",
        "X_train = sc.fit_transform(X_train)\n",
        "X_test = sc.transform(X_test)"
      ],
      "execution_count": 10,
      "outputs": []
    },
    {
      "cell_type": "markdown",
      "metadata": {
        "id": "2QUFYaoH00H6"
      },
      "source": [
        "## ANN"
      ]
    },
    {
      "cell_type": "markdown",
      "metadata": {
        "id": "fmmakWMe2Xe0"
      },
      "source": [
        "### Initialization"
      ]
    },
    {
      "cell_type": "code",
      "metadata": {
        "id": "2iFA5Qkn49UW"
      },
      "source": [
        "ann = tf.keras.models.Sequential()"
      ],
      "execution_count": 11,
      "outputs": []
    },
    {
      "cell_type": "markdown",
      "metadata": {
        "id": "oZs3tLKX2a0c"
      },
      "source": [
        "### Adding input layer and first hidden layer"
      ]
    },
    {
      "cell_type": "code",
      "metadata": {
        "id": "BqUEsAVP5Gp7"
      },
      "source": [
        "ann.add(tf.keras.layers.Dense(units=6, activation='relu'))"
      ],
      "execution_count": 12,
      "outputs": []
    },
    {
      "cell_type": "markdown",
      "metadata": {
        "id": "3VMq7Dzx2inS"
      },
      "source": [
        "### Adding second hidden layer"
      ]
    },
    {
      "cell_type": "code",
      "metadata": {
        "id": "5iqN64Qb5XpM"
      },
      "source": [
        "ann.add(tf.keras.layers.Dense(units=6, activation='relu'))"
      ],
      "execution_count": 13,
      "outputs": []
    },
    {
      "cell_type": "markdown",
      "metadata": {
        "id": "rf0PPM2O2mY4"
      },
      "source": [
        "### Adding output layer"
      ]
    },
    {
      "cell_type": "code",
      "metadata": {
        "id": "16bVnSmy5izv"
      },
      "source": [
        "ann.add(tf.keras.layers.Dense(units=1, activation='sigmoid'))"
      ],
      "execution_count": 14,
      "outputs": []
    },
    {
      "cell_type": "markdown",
      "metadata": {
        "id": "-Dw4Khi70u9g"
      },
      "source": [
        "## ANN Training"
      ]
    },
    {
      "cell_type": "markdown",
      "metadata": {
        "id": "3DGW0tMz6vZF"
      },
      "source": [
        "### Compiling ANN"
      ]
    },
    {
      "cell_type": "code",
      "metadata": {
        "id": "qpRleG206-Cy"
      },
      "source": [
        "ann.compile(optimizer = 'adam', loss = 'binary_crossentropy', metrics = ['accuracy'])"
      ],
      "execution_count": 15,
      "outputs": []
    },
    {
      "cell_type": "markdown",
      "metadata": {
        "id": "JcIyviNr2tiO"
      },
      "source": [
        "### Training on training dataset"
      ]
    },
    {
      "cell_type": "code",
      "metadata": {
        "colab": {
          "base_uri": "https://localhost:8080/"
        },
        "id": "U411c0oi5pGF",
        "outputId": "5438b21f-c050-43c8-d6d3-7118874e3db7"
      },
      "source": [
        "ann.fit(X_train, y_train, batch_size = 32, epochs = 120)"
      ],
      "execution_count": 16,
      "outputs": [
        {
          "output_type": "stream",
          "name": "stdout",
          "text": [
            "Epoch 1/120\n",
            "249/249 [==============================] - 1s 1ms/step - loss: nan - accuracy: 0.7084\n",
            "Epoch 2/120\n",
            "249/249 [==============================] - 0s 2ms/step - loss: nan - accuracy: 0.7937\n",
            "Epoch 3/120\n",
            "249/249 [==============================] - 0s 1ms/step - loss: nan - accuracy: 0.7937\n",
            "Epoch 4/120\n",
            "249/249 [==============================] - 0s 2ms/step - loss: nan - accuracy: 0.7937\n",
            "Epoch 5/120\n",
            "249/249 [==============================] - 0s 1ms/step - loss: nan - accuracy: 0.7937\n",
            "Epoch 6/120\n",
            "249/249 [==============================] - 0s 1ms/step - loss: nan - accuracy: 0.7937\n",
            "Epoch 7/120\n",
            "249/249 [==============================] - 0s 1ms/step - loss: nan - accuracy: 0.7937\n",
            "Epoch 8/120\n",
            "249/249 [==============================] - 0s 1ms/step - loss: nan - accuracy: 0.7937\n",
            "Epoch 9/120\n",
            "249/249 [==============================] - 0s 1ms/step - loss: nan - accuracy: 0.7937\n",
            "Epoch 10/120\n",
            "249/249 [==============================] - 0s 1ms/step - loss: nan - accuracy: 0.7937\n",
            "Epoch 11/120\n",
            "249/249 [==============================] - 0s 1ms/step - loss: nan - accuracy: 0.7937\n",
            "Epoch 12/120\n",
            "249/249 [==============================] - 0s 1ms/step - loss: nan - accuracy: 0.7937\n",
            "Epoch 13/120\n",
            "249/249 [==============================] - 0s 1ms/step - loss: nan - accuracy: 0.7937\n",
            "Epoch 14/120\n",
            "249/249 [==============================] - 0s 1ms/step - loss: nan - accuracy: 0.7937\n",
            "Epoch 15/120\n",
            "249/249 [==============================] - 0s 1ms/step - loss: nan - accuracy: 0.7937\n",
            "Epoch 16/120\n",
            "249/249 [==============================] - 0s 1ms/step - loss: nan - accuracy: 0.7937\n",
            "Epoch 17/120\n",
            "249/249 [==============================] - 0s 1ms/step - loss: nan - accuracy: 0.7937\n",
            "Epoch 18/120\n",
            "249/249 [==============================] - 0s 1ms/step - loss: nan - accuracy: 0.7937\n",
            "Epoch 19/120\n",
            "249/249 [==============================] - 0s 2ms/step - loss: nan - accuracy: 0.7937\n",
            "Epoch 20/120\n",
            "249/249 [==============================] - 0s 1ms/step - loss: nan - accuracy: 0.7937\n",
            "Epoch 21/120\n",
            "249/249 [==============================] - 0s 1ms/step - loss: nan - accuracy: 0.7937\n",
            "Epoch 22/120\n",
            "249/249 [==============================] - 0s 1ms/step - loss: nan - accuracy: 0.7937\n",
            "Epoch 23/120\n",
            "249/249 [==============================] - 0s 2ms/step - loss: nan - accuracy: 0.7937\n",
            "Epoch 24/120\n",
            "249/249 [==============================] - 0s 1ms/step - loss: nan - accuracy: 0.7937\n",
            "Epoch 25/120\n",
            "249/249 [==============================] - 0s 1ms/step - loss: nan - accuracy: 0.7937\n",
            "Epoch 26/120\n",
            "249/249 [==============================] - 0s 1ms/step - loss: nan - accuracy: 0.7937\n",
            "Epoch 27/120\n",
            "249/249 [==============================] - 1s 3ms/step - loss: nan - accuracy: 0.7937\n",
            "Epoch 28/120\n",
            "249/249 [==============================] - 0s 1ms/step - loss: nan - accuracy: 0.7937\n",
            "Epoch 29/120\n",
            "249/249 [==============================] - 0s 1ms/step - loss: nan - accuracy: 0.7937\n",
            "Epoch 30/120\n",
            "249/249 [==============================] - 0s 2ms/step - loss: nan - accuracy: 0.7937\n",
            "Epoch 31/120\n",
            "249/249 [==============================] - 0s 1ms/step - loss: nan - accuracy: 0.7937\n",
            "Epoch 32/120\n",
            "249/249 [==============================] - 0s 1ms/step - loss: nan - accuracy: 0.7937\n",
            "Epoch 33/120\n",
            "249/249 [==============================] - 0s 1ms/step - loss: nan - accuracy: 0.7937\n",
            "Epoch 34/120\n",
            "249/249 [==============================] - 0s 1ms/step - loss: nan - accuracy: 0.7937\n",
            "Epoch 35/120\n",
            "249/249 [==============================] - 0s 1ms/step - loss: nan - accuracy: 0.7937\n",
            "Epoch 36/120\n",
            "249/249 [==============================] - 0s 1ms/step - loss: nan - accuracy: 0.7937\n",
            "Epoch 37/120\n",
            "249/249 [==============================] - 0s 2ms/step - loss: nan - accuracy: 0.7937\n",
            "Epoch 38/120\n",
            "249/249 [==============================] - 0s 2ms/step - loss: nan - accuracy: 0.7937\n",
            "Epoch 39/120\n",
            "249/249 [==============================] - 0s 1ms/step - loss: nan - accuracy: 0.7937\n",
            "Epoch 40/120\n",
            "249/249 [==============================] - 0s 1ms/step - loss: nan - accuracy: 0.7937\n",
            "Epoch 41/120\n",
            "249/249 [==============================] - 0s 1ms/step - loss: nan - accuracy: 0.7937\n",
            "Epoch 42/120\n",
            "249/249 [==============================] - 0s 1ms/step - loss: nan - accuracy: 0.7937\n",
            "Epoch 43/120\n",
            "249/249 [==============================] - 0s 1ms/step - loss: nan - accuracy: 0.7937\n",
            "Epoch 44/120\n",
            "249/249 [==============================] - 0s 1ms/step - loss: nan - accuracy: 0.7937\n",
            "Epoch 45/120\n",
            "249/249 [==============================] - 0s 1ms/step - loss: nan - accuracy: 0.7937\n",
            "Epoch 46/120\n",
            "249/249 [==============================] - 0s 1ms/step - loss: nan - accuracy: 0.7937\n",
            "Epoch 47/120\n",
            "249/249 [==============================] - 0s 1ms/step - loss: nan - accuracy: 0.7937\n",
            "Epoch 48/120\n",
            "249/249 [==============================] - 0s 2ms/step - loss: nan - accuracy: 0.7937\n",
            "Epoch 49/120\n",
            "249/249 [==============================] - 0s 1ms/step - loss: nan - accuracy: 0.7937\n",
            "Epoch 50/120\n",
            "249/249 [==============================] - 0s 1ms/step - loss: nan - accuracy: 0.7937\n",
            "Epoch 51/120\n",
            "249/249 [==============================] - 1s 3ms/step - loss: nan - accuracy: 0.7937\n",
            "Epoch 52/120\n",
            "249/249 [==============================] - 0s 1ms/step - loss: nan - accuracy: 0.7937\n",
            "Epoch 53/120\n",
            "249/249 [==============================] - 1s 3ms/step - loss: nan - accuracy: 0.7937\n",
            "Epoch 54/120\n",
            "249/249 [==============================] - 0s 1ms/step - loss: nan - accuracy: 0.7937\n",
            "Epoch 55/120\n",
            "249/249 [==============================] - 0s 1ms/step - loss: nan - accuracy: 0.7937\n",
            "Epoch 56/120\n",
            "249/249 [==============================] - 0s 1ms/step - loss: nan - accuracy: 0.7937\n",
            "Epoch 57/120\n",
            "249/249 [==============================] - 0s 2ms/step - loss: nan - accuracy: 0.7937\n",
            "Epoch 58/120\n",
            "249/249 [==============================] - 0s 1ms/step - loss: nan - accuracy: 0.7937\n",
            "Epoch 59/120\n",
            "249/249 [==============================] - 0s 2ms/step - loss: nan - accuracy: 0.7937\n",
            "Epoch 60/120\n",
            "249/249 [==============================] - 0s 1ms/step - loss: nan - accuracy: 0.7937\n",
            "Epoch 61/120\n",
            "249/249 [==============================] - 0s 1ms/step - loss: nan - accuracy: 0.7937\n",
            "Epoch 62/120\n",
            "249/249 [==============================] - 0s 1ms/step - loss: nan - accuracy: 0.7937\n",
            "Epoch 63/120\n",
            "249/249 [==============================] - 0s 1ms/step - loss: nan - accuracy: 0.7937\n",
            "Epoch 64/120\n",
            "249/249 [==============================] - 0s 1ms/step - loss: nan - accuracy: 0.7937\n",
            "Epoch 65/120\n",
            "249/249 [==============================] - 0s 2ms/step - loss: nan - accuracy: 0.7937\n",
            "Epoch 66/120\n",
            "249/249 [==============================] - 0s 1ms/step - loss: nan - accuracy: 0.7937\n",
            "Epoch 67/120\n",
            "249/249 [==============================] - 0s 1ms/step - loss: nan - accuracy: 0.7937\n",
            "Epoch 68/120\n",
            "249/249 [==============================] - 0s 2ms/step - loss: nan - accuracy: 0.7937\n",
            "Epoch 69/120\n",
            "249/249 [==============================] - 0s 1ms/step - loss: nan - accuracy: 0.7937\n",
            "Epoch 70/120\n",
            "249/249 [==============================] - 0s 2ms/step - loss: nan - accuracy: 0.7937\n",
            "Epoch 71/120\n",
            "249/249 [==============================] - 0s 1ms/step - loss: nan - accuracy: 0.7937\n",
            "Epoch 72/120\n",
            "249/249 [==============================] - 0s 2ms/step - loss: nan - accuracy: 0.7937\n",
            "Epoch 73/120\n",
            "249/249 [==============================] - 0s 1ms/step - loss: nan - accuracy: 0.7937\n",
            "Epoch 74/120\n",
            "249/249 [==============================] - 0s 1ms/step - loss: nan - accuracy: 0.7937\n",
            "Epoch 75/120\n",
            "249/249 [==============================] - 0s 1ms/step - loss: nan - accuracy: 0.7937\n",
            "Epoch 76/120\n",
            "249/249 [==============================] - 0s 1ms/step - loss: nan - accuracy: 0.7937\n",
            "Epoch 77/120\n",
            "249/249 [==============================] - 0s 2ms/step - loss: nan - accuracy: 0.7937\n",
            "Epoch 78/120\n",
            "249/249 [==============================] - 0s 2ms/step - loss: nan - accuracy: 0.7937\n",
            "Epoch 79/120\n",
            "249/249 [==============================] - 0s 2ms/step - loss: nan - accuracy: 0.7937\n",
            "Epoch 80/120\n",
            "249/249 [==============================] - 0s 2ms/step - loss: nan - accuracy: 0.7937\n",
            "Epoch 81/120\n",
            "249/249 [==============================] - 0s 1ms/step - loss: nan - accuracy: 0.7937\n",
            "Epoch 82/120\n",
            "249/249 [==============================] - 0s 1ms/step - loss: nan - accuracy: 0.7937\n",
            "Epoch 83/120\n",
            "249/249 [==============================] - 0s 1ms/step - loss: nan - accuracy: 0.7937\n",
            "Epoch 84/120\n",
            "249/249 [==============================] - 0s 1ms/step - loss: nan - accuracy: 0.7937\n",
            "Epoch 85/120\n",
            "249/249 [==============================] - 0s 1ms/step - loss: nan - accuracy: 0.7937\n",
            "Epoch 86/120\n",
            "249/249 [==============================] - 0s 2ms/step - loss: nan - accuracy: 0.7937\n",
            "Epoch 87/120\n",
            "249/249 [==============================] - 0s 1ms/step - loss: nan - accuracy: 0.7937\n",
            "Epoch 88/120\n",
            "249/249 [==============================] - 0s 1ms/step - loss: nan - accuracy: 0.7937\n",
            "Epoch 89/120\n",
            "249/249 [==============================] - 0s 2ms/step - loss: nan - accuracy: 0.7937\n",
            "Epoch 90/120\n",
            "249/249 [==============================] - 0s 1ms/step - loss: nan - accuracy: 0.7937\n",
            "Epoch 91/120\n",
            "249/249 [==============================] - 0s 1ms/step - loss: nan - accuracy: 0.7937\n",
            "Epoch 92/120\n",
            "249/249 [==============================] - 0s 1ms/step - loss: nan - accuracy: 0.7937\n",
            "Epoch 93/120\n",
            "249/249 [==============================] - 0s 1ms/step - loss: nan - accuracy: 0.7937\n",
            "Epoch 94/120\n",
            "249/249 [==============================] - 0s 1ms/step - loss: nan - accuracy: 0.7937\n",
            "Epoch 95/120\n",
            "249/249 [==============================] - 0s 1ms/step - loss: nan - accuracy: 0.7937\n",
            "Epoch 96/120\n",
            "249/249 [==============================] - 0s 1ms/step - loss: nan - accuracy: 0.7937\n",
            "Epoch 97/120\n",
            "249/249 [==============================] - 0s 2ms/step - loss: nan - accuracy: 0.7937\n",
            "Epoch 98/120\n",
            "249/249 [==============================] - 0s 1ms/step - loss: nan - accuracy: 0.7937\n",
            "Epoch 99/120\n",
            "249/249 [==============================] - 0s 1ms/step - loss: nan - accuracy: 0.7937\n",
            "Epoch 100/120\n",
            "249/249 [==============================] - 0s 1ms/step - loss: nan - accuracy: 0.7937\n",
            "Epoch 101/120\n",
            "249/249 [==============================] - 0s 2ms/step - loss: nan - accuracy: 0.7937\n",
            "Epoch 102/120\n",
            "249/249 [==============================] - 0s 1ms/step - loss: nan - accuracy: 0.7937\n",
            "Epoch 103/120\n",
            "249/249 [==============================] - 0s 1ms/step - loss: nan - accuracy: 0.7937\n",
            "Epoch 104/120\n",
            "249/249 [==============================] - 0s 2ms/step - loss: nan - accuracy: 0.7937\n",
            "Epoch 105/120\n",
            "249/249 [==============================] - 0s 1ms/step - loss: nan - accuracy: 0.7937\n",
            "Epoch 106/120\n",
            "249/249 [==============================] - 0s 1ms/step - loss: nan - accuracy: 0.7937\n",
            "Epoch 107/120\n",
            "249/249 [==============================] - 0s 1ms/step - loss: nan - accuracy: 0.7937\n",
            "Epoch 108/120\n",
            "249/249 [==============================] - 0s 1ms/step - loss: nan - accuracy: 0.7937\n",
            "Epoch 109/120\n",
            "249/249 [==============================] - 0s 1ms/step - loss: nan - accuracy: 0.7937\n",
            "Epoch 110/120\n",
            "249/249 [==============================] - 0s 1ms/step - loss: nan - accuracy: 0.7937\n",
            "Epoch 111/120\n",
            "249/249 [==============================] - 0s 2ms/step - loss: nan - accuracy: 0.7937\n",
            "Epoch 112/120\n",
            "249/249 [==============================] - 0s 1ms/step - loss: nan - accuracy: 0.7937\n",
            "Epoch 113/120\n",
            "249/249 [==============================] - 0s 1ms/step - loss: nan - accuracy: 0.7937\n",
            "Epoch 114/120\n",
            "249/249 [==============================] - 0s 2ms/step - loss: nan - accuracy: 0.7937\n",
            "Epoch 115/120\n",
            "249/249 [==============================] - 0s 1ms/step - loss: nan - accuracy: 0.7937\n",
            "Epoch 116/120\n",
            "249/249 [==============================] - 0s 1ms/step - loss: nan - accuracy: 0.7937\n",
            "Epoch 117/120\n",
            "249/249 [==============================] - 0s 1ms/step - loss: nan - accuracy: 0.7937\n",
            "Epoch 118/120\n",
            "249/249 [==============================] - 0s 1ms/step - loss: nan - accuracy: 0.7937\n",
            "Epoch 119/120\n",
            "249/249 [==============================] - 0s 2ms/step - loss: nan - accuracy: 0.7937\n",
            "Epoch 120/120\n",
            "249/249 [==============================] - 0s 1ms/step - loss: nan - accuracy: 0.7937\n"
          ]
        },
        {
          "output_type": "execute_result",
          "data": {
            "text/plain": [
              "<keras.callbacks.History at 0x7ff1175a2a10>"
            ]
          },
          "metadata": {},
          "execution_count": 16
        }
      ]
    },
    {
      "cell_type": "markdown",
      "metadata": {
        "id": "YDjEXibj22y8"
      },
      "source": [
        "# Predictions"
      ]
    },
    {
      "cell_type": "markdown",
      "metadata": {
        "id": "8KQtJPsR28Km"
      },
      "source": [
        "### Single Prediction"
      ]
    },
    {
      "cell_type": "code",
      "metadata": {
        "id": "u33xFIS23KtS",
        "colab": {
          "base_uri": "https://localhost:8080/",
          "height": 310
        },
        "outputId": "a55e8b5a-5cb2-4e73-84dc-dd95f65dadd4"
      },
      "source": [
        "print(ann.predict(sc.transform([[0.0, 1.0, 0.0, 501, 0, 32, 2, 0.0, 4, 1, 545501]])) > 0.5)"
      ],
      "execution_count": 18,
      "outputs": [
        {
          "output_type": "error",
          "ename": "ValueError",
          "evalue": "ignored",
          "traceback": [
            "\u001b[0;31m---------------------------------------------------------------------------\u001b[0m",
            "\u001b[0;31mValueError\u001b[0m                                Traceback (most recent call last)",
            "\u001b[0;32m<ipython-input-18-3c9e6d3dc6f7>\u001b[0m in \u001b[0;36m<module>\u001b[0;34m()\u001b[0m\n\u001b[0;32m----> 1\u001b[0;31m \u001b[0mprint\u001b[0m\u001b[0;34m(\u001b[0m\u001b[0mann\u001b[0m\u001b[0;34m.\u001b[0m\u001b[0mpredict\u001b[0m\u001b[0;34m(\u001b[0m\u001b[0msc\u001b[0m\u001b[0;34m.\u001b[0m\u001b[0mtransform\u001b[0m\u001b[0;34m(\u001b[0m\u001b[0;34m[\u001b[0m\u001b[0;34m[\u001b[0m\u001b[0;36m0.0\u001b[0m\u001b[0;34m,\u001b[0m \u001b[0;36m1.0\u001b[0m\u001b[0;34m,\u001b[0m \u001b[0;36m0.0\u001b[0m\u001b[0;34m,\u001b[0m \u001b[0;36m501\u001b[0m\u001b[0;34m,\u001b[0m \u001b[0;36m0\u001b[0m\u001b[0;34m,\u001b[0m \u001b[0;36m32\u001b[0m\u001b[0;34m,\u001b[0m \u001b[0;36m2\u001b[0m\u001b[0;34m,\u001b[0m \u001b[0;36m0.0\u001b[0m\u001b[0;34m,\u001b[0m \u001b[0;36m4\u001b[0m\u001b[0;34m,\u001b[0m \u001b[0;36m1\u001b[0m\u001b[0;34m,\u001b[0m \u001b[0;36m545501\u001b[0m\u001b[0;34m]\u001b[0m\u001b[0;34m]\u001b[0m\u001b[0;34m)\u001b[0m\u001b[0;34m)\u001b[0m \u001b[0;34m>\u001b[0m \u001b[0;36m0.5\u001b[0m\u001b[0;34m)\u001b[0m\u001b[0;34m\u001b[0m\u001b[0;34m\u001b[0m\u001b[0m\n\u001b[0m",
            "\u001b[0;32m/usr/local/lib/python3.7/dist-packages/sklearn/preprocessing/_data.py\u001b[0m in \u001b[0;36mtransform\u001b[0;34m(self, X, copy)\u001b[0m\n\u001b[1;32m    978\u001b[0m             \u001b[0mestimator\u001b[0m\u001b[0;34m=\u001b[0m\u001b[0mself\u001b[0m\u001b[0;34m,\u001b[0m\u001b[0;34m\u001b[0m\u001b[0;34m\u001b[0m\u001b[0m\n\u001b[1;32m    979\u001b[0m             \u001b[0mdtype\u001b[0m\u001b[0;34m=\u001b[0m\u001b[0mFLOAT_DTYPES\u001b[0m\u001b[0;34m,\u001b[0m\u001b[0;34m\u001b[0m\u001b[0;34m\u001b[0m\u001b[0m\n\u001b[0;32m--> 980\u001b[0;31m             \u001b[0mforce_all_finite\u001b[0m\u001b[0;34m=\u001b[0m\u001b[0;34m\"allow-nan\"\u001b[0m\u001b[0;34m,\u001b[0m\u001b[0;34m\u001b[0m\u001b[0;34m\u001b[0m\u001b[0m\n\u001b[0m\u001b[1;32m    981\u001b[0m         )\n\u001b[1;32m    982\u001b[0m \u001b[0;34m\u001b[0m\u001b[0m\n",
            "\u001b[0;32m/usr/local/lib/python3.7/dist-packages/sklearn/base.py\u001b[0m in \u001b[0;36m_validate_data\u001b[0;34m(self, X, y, reset, validate_separately, **check_params)\u001b[0m\n\u001b[1;32m    583\u001b[0m \u001b[0;34m\u001b[0m\u001b[0m\n\u001b[1;32m    584\u001b[0m         \u001b[0;32mif\u001b[0m \u001b[0;32mnot\u001b[0m \u001b[0mno_val_X\u001b[0m \u001b[0;32mand\u001b[0m \u001b[0mcheck_params\u001b[0m\u001b[0;34m.\u001b[0m\u001b[0mget\u001b[0m\u001b[0;34m(\u001b[0m\u001b[0;34m\"ensure_2d\"\u001b[0m\u001b[0;34m,\u001b[0m \u001b[0;32mTrue\u001b[0m\u001b[0;34m)\u001b[0m\u001b[0;34m:\u001b[0m\u001b[0;34m\u001b[0m\u001b[0;34m\u001b[0m\u001b[0m\n\u001b[0;32m--> 585\u001b[0;31m             \u001b[0mself\u001b[0m\u001b[0;34m.\u001b[0m\u001b[0m_check_n_features\u001b[0m\u001b[0;34m(\u001b[0m\u001b[0mX\u001b[0m\u001b[0;34m,\u001b[0m \u001b[0mreset\u001b[0m\u001b[0;34m=\u001b[0m\u001b[0mreset\u001b[0m\u001b[0;34m)\u001b[0m\u001b[0;34m\u001b[0m\u001b[0;34m\u001b[0m\u001b[0m\n\u001b[0m\u001b[1;32m    586\u001b[0m \u001b[0;34m\u001b[0m\u001b[0m\n\u001b[1;32m    587\u001b[0m         \u001b[0;32mreturn\u001b[0m \u001b[0mout\u001b[0m\u001b[0;34m\u001b[0m\u001b[0;34m\u001b[0m\u001b[0m\n",
            "\u001b[0;32m/usr/local/lib/python3.7/dist-packages/sklearn/base.py\u001b[0m in \u001b[0;36m_check_n_features\u001b[0;34m(self, X, reset)\u001b[0m\n\u001b[1;32m    399\u001b[0m         \u001b[0;32mif\u001b[0m \u001b[0mn_features\u001b[0m \u001b[0;34m!=\u001b[0m \u001b[0mself\u001b[0m\u001b[0;34m.\u001b[0m\u001b[0mn_features_in_\u001b[0m\u001b[0;34m:\u001b[0m\u001b[0;34m\u001b[0m\u001b[0;34m\u001b[0m\u001b[0m\n\u001b[1;32m    400\u001b[0m             raise ValueError(\n\u001b[0;32m--> 401\u001b[0;31m                 \u001b[0;34mf\"X has {n_features} features, but {self.__class__.__name__} \"\u001b[0m\u001b[0;34m\u001b[0m\u001b[0;34m\u001b[0m\u001b[0m\n\u001b[0m\u001b[1;32m    402\u001b[0m                 \u001b[0;34mf\"is expecting {self.n_features_in_} features as input.\"\u001b[0m\u001b[0;34m\u001b[0m\u001b[0;34m\u001b[0m\u001b[0m\n\u001b[1;32m    403\u001b[0m             )\n",
            "\u001b[0;31mValueError\u001b[0m: X has 11 features, but StandardScaler is expecting 12 features as input."
          ]
        }
      ]
    },
    {
      "cell_type": "markdown",
      "metadata": {
        "id": "0HxpzoQo2_Gf"
      },
      "source": [
        "### Predication on testset"
      ]
    },
    {
      "cell_type": "code",
      "metadata": {
        "id": "tUCnLY6e3Imj",
        "colab": {
          "base_uri": "https://localhost:8080/"
        },
        "outputId": "59ed576c-5edc-4734-86c8-39f11768bb81"
      },
      "source": [
        "y_pred = ann.predict(X_test)\n",
        "y_pred = (y_pred > 0.5)\n",
        "print(np.concatenate((y_pred.reshape(len(y_pred),1), y_test.reshape(len(y_test),1)),1))"
      ],
      "execution_count": null,
      "outputs": [
        {
          "output_type": "stream",
          "text": [
            "[[0 1]\n",
            " [0 0]\n",
            " [0 0]\n",
            " ...\n",
            " [0 1]\n",
            " [0 0]\n",
            " [0 1]]\n"
          ],
          "name": "stdout"
        }
      ]
    },
    {
      "cell_type": "markdown",
      "metadata": {
        "id": "_YpFOI9d3C-5"
      },
      "source": [
        "### Confusion Matrix"
      ]
    },
    {
      "cell_type": "code",
      "metadata": {
        "id": "UYvqw6qvy5J4",
        "colab": {
          "base_uri": "https://localhost:8080/"
        },
        "outputId": "d72a121f-77d8-4529-e38b-f3ca12a7191a"
      },
      "source": [
        "from sklearn.metrics import confusion_matrix, accuracy_score\n",
        "cm = confusion_matrix(y_test, y_pred)\n",
        "print(cm)\n",
        "accuracy_score(y_test, y_pred)"
      ],
      "execution_count": null,
      "outputs": [
        {
          "output_type": "stream",
          "text": [
            "[[1523   50]\n",
            " [ 241  172]]\n"
          ],
          "name": "stdout"
        },
        {
          "output_type": "execute_result",
          "data": {
            "text/plain": [
              "0.8534743202416919"
            ]
          },
          "metadata": {
            "tags": []
          },
          "execution_count": 22
        }
      ]
    }
  ]
}
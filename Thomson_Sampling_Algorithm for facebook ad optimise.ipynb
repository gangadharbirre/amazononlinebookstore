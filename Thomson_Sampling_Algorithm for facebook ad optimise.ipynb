{
  "nbformat": 4,
  "nbformat_minor": 0,
  "metadata": {
    "colab": {
      "name": "Thomson Sampling Template.ipynb",
      "provenance": [],
      "collapsed_sections": [],
      "include_colab_link": true
    },
    "kernelspec": {
      "name": "python3",
      "display_name": "Python 3"
    }
  },
  "cells": [
    {
      "cell_type": "markdown",
      "metadata": {
        "id": "view-in-github",
        "colab_type": "text"
      },
      "source": [
        "<a href=\"https://colab.research.google.com/github/gangadharbirre/amazononlinebookstore/blob/main/Thomson_Sampling_Algorithm%20for%20facebook%20ad%20optimise.ipynb\" target=\"_parent\"><img src=\"https://colab.research.google.com/assets/colab-badge.svg\" alt=\"Open In Colab\"/></a>"
      ]
    },
    {
      "cell_type": "markdown",
      "metadata": {
        "id": "Z-jZGC0q0aiY"
      },
      "source": [
        "# Thomson Sampling"
      ]
    },
    {
      "cell_type": "markdown",
      "metadata": {
        "id": "jE4Rc_OO0eJM"
      },
      "source": [
        "## Importing libraries"
      ]
    },
    {
      "cell_type": "code",
      "source": [
        "import numpy as np\n",
        "import matplotlib.pyplot as plt\n",
        "import pandas as pd"
      ],
      "metadata": {
        "id": "A4BSsHRjW8ue"
      },
      "execution_count": 1,
      "outputs": []
    },
    {
      "cell_type": "markdown",
      "metadata": {
        "id": "A9-xGHd20gY1"
      },
      "source": [
        "## Importing dataset"
      ]
    },
    {
      "cell_type": "code",
      "source": [
        "dataset=pd.read_csv('Thompson Sampling Algorithm Facebook ad optimise.csv')"
      ],
      "metadata": {
        "id": "QoxHLyVeXGPL"
      },
      "execution_count": 2,
      "outputs": []
    },
    {
      "cell_type": "code",
      "source": [
        "print(dataset)"
      ],
      "metadata": {
        "colab": {
          "base_uri": "https://localhost:8080/"
        },
        "id": "GOUsk0kiXW_K",
        "outputId": "291898a7-4569-4a40-8a3e-777c718ae86a"
      },
      "execution_count": 3,
      "outputs": [
        {
          "output_type": "stream",
          "name": "stdout",
          "text": [
            "       Advertisement 1  Advertisement 2  Advertisement 3  Advertisement 4  \\\n",
            "0                  0.0              0.0              0.0              1.0   \n",
            "1                  0.0              1.0              0.0              1.0   \n",
            "2                  0.0              0.0              0.0              1.0   \n",
            "3                  1.0              0.0              0.0              0.0   \n",
            "4                  0.0              0.0              0.0              0.0   \n",
            "...                ...              ...              ...              ...   \n",
            "15997              NaN              NaN              NaN              NaN   \n",
            "15998              NaN              NaN              NaN              NaN   \n",
            "15999              NaN              NaN              NaN              NaN   \n",
            "16000              NaN              NaN              NaN              NaN   \n",
            "16001              NaN              NaN              NaN              NaN   \n",
            "\n",
            "       Advertisement 5  Advertisement 6  Advertisement 7  Advertisement 8  \\\n",
            "0                  0.0              1.0              0.0              0.0   \n",
            "1                  0.0              0.0              0.0              0.0   \n",
            "2                  0.0              0.0              1.0              0.0   \n",
            "3                  0.0              0.0              0.0              0.0   \n",
            "4                  0.0              0.0              0.0              0.0   \n",
            "...                ...              ...              ...              ...   \n",
            "15997              NaN              NaN              NaN              NaN   \n",
            "15998              NaN              NaN              NaN              NaN   \n",
            "15999              NaN              NaN              NaN              NaN   \n",
            "16000              NaN              NaN              NaN              NaN   \n",
            "16001              NaN              NaN              NaN              NaN   \n",
            "\n",
            "       Advertisement 9  Advertisement 10  \n",
            "0                  0.0               0.0  \n",
            "1                  1.0               0.0  \n",
            "2                  0.0               0.0  \n",
            "3                  0.0               0.0  \n",
            "4                  0.0               0.0  \n",
            "...                ...               ...  \n",
            "15997              NaN               NaN  \n",
            "15998              NaN               NaN  \n",
            "15999              NaN               NaN  \n",
            "16000              NaN               NaN  \n",
            "16001              NaN               NaN  \n",
            "\n",
            "[16002 rows x 10 columns]\n"
          ]
        }
      ]
    },
    {
      "cell_type": "markdown",
      "metadata": {
        "id": "8REFJFGC0lRN"
      },
      "source": [
        "## Implementation"
      ]
    },
    {
      "cell_type": "code",
      "source": [
        "import math as m\n",
        "import random\n",
        "N = 300\n",
        "num_ads = 10\n",
        "ads_selected = []\n",
        "num_of_rewards_1 = [0] * num_ads\n",
        "num_of_rewards_0 = [0] * num_ads\n",
        "total_reward = 0\n",
        "for n in range(0, N):\n",
        "  ad = 0\n",
        "  max_random = 0\n",
        "  for i in range(0, num_ads):\n",
        "    random_beta = random.betavariate(num_of_rewards_1[i] + 1, num_of_rewards_0[i] + 1)\n",
        "    if (random_beta > max_random):\n",
        "      max_random = random_beta\n",
        "      ad = i\n",
        "    ads_selected.append(ad)\n",
        "    reward = dataset.values[n, ad]\n",
        "    if reward == 1:\n",
        "      num_of_rewards_1[ad] = num_of_rewards_1[ad] + 1\n",
        "    else:\n",
        "      num_of_rewards_0[ad] = num_of_rewards_0[ad] + 1\n",
        "    total_reward = total_reward + reward\n",
        "\n"
      ],
      "metadata": {
        "id": "P8AjlnXaXfza"
      },
      "execution_count": 19,
      "outputs": []
    },
    {
      "cell_type": "markdown",
      "metadata": {
        "id": "2QUFYaoH00H6"
      },
      "source": [
        "## Histogram Visualization"
      ]
    },
    {
      "cell_type": "code",
      "source": [
        "plt.hist(ads_selected)\n",
        "plt.title('Histogram of ads selections')\n",
        "plt.xlabel('ads')\n",
        "plt.ylabel('Number of times each ad was selected')\n",
        "plt.show()"
      ],
      "metadata": {
        "colab": {
          "base_uri": "https://localhost:8080/",
          "height": 295
        },
        "id": "uGsbkMaveW3k",
        "outputId": "35a93288-4bee-4012-a981-032488845f49"
      },
      "execution_count": 20,
      "outputs": [
        {
          "output_type": "display_data",
          "data": {
            "text/plain": [
              "<Figure size 432x288 with 1 Axes>"
            ],
            "image/png": "[encoded data removed]"
          },
          "metadata": {
            "needs_background": "light"
          }
        }
      ]
    }
  ]
}
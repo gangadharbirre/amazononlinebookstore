{
  "nbformat": 4,
  "nbformat_minor": 0,
  "metadata": {
    "colab": {
      "name": "Copy of Copy of Upper Confidence Bound Template.ipynb",
      "provenance": [],
      "collapsed_sections": [],
      "include_colab_link": true
    },
    "kernelspec": {
      "name": "python3",
      "display_name": "Python 3"
    }
  },
  "cells": [
    {
      "cell_type": "markdown",
      "metadata": {
        "id": "view-in-github",
        "colab_type": "text"
      },
      "source": [
        "<a href=\"https://colab.research.google.com/github/gangadharbirre/amazononlinebookstore/blob/main/Upper_Confidence_Bound%20Facebook%20ad%20optimise_Template.ipynb\" target=\"_parent\"><img src=\"https://colab.research.google.com/assets/colab-badge.svg\" alt=\"Open In Colab\"/></a>"
      ]
    },
    {
      "cell_type": "markdown",
      "metadata": {
        "id": "Z-jZGC0q0aiY"
      },
      "source": [
        "# Upper Confidence Bound"
      ]
    },
    {
      "cell_type": "markdown",
      "metadata": {
        "id": "jE4Rc_OO0eJM"
      },
      "source": [
        "## Importing libraries"
      ]
    },
    {
      "cell_type": "code",
      "source": [
        "import numpy as np\n",
        "import matplotlib.pyplot as plt\n",
        "import pandas as pd"
      ],
      "metadata": {
        "id": "Yw7W5XeAUt5I"
      },
      "execution_count": 1,
      "outputs": []
    },
    {
      "cell_type": "markdown",
      "metadata": {
        "id": "A9-xGHd20gY1"
      },
      "source": [
        "## Importing dataset"
      ]
    },
    {
      "cell_type": "code",
      "source": [
        "dataset=pd.read_csv('Uppper Bound Facebook Ad optimise.csv')"
      ],
      "metadata": {
        "id": "NC2BfwUfU4-_"
      },
      "execution_count": 3,
      "outputs": []
    },
    {
      "cell_type": "code",
      "source": [
        "print(dataset)"
      ],
      "metadata": {
        "colab": {
          "base_uri": "https://localhost:8080/"
        },
        "id": "_dRPNPe7VNi9",
        "outputId": "86801a76-0a66-4b7f-a2d1-125e0889d53d"
      },
      "execution_count": 4,
      "outputs": [
        {
          "output_type": "stream",
          "name": "stdout",
          "text": [
            "       Advertisement 1  Advertisement 2  Advertisement 3  Advertisement 4  \\\n",
            "0                    0                0                0                1   \n",
            "1                    0                1                0                1   \n",
            "2                    0                0                0                1   \n",
            "3                    1                0                0                0   \n",
            "4                    0                0                0                0   \n",
            "...                ...              ...              ...              ...   \n",
            "14995                1                1                0                0   \n",
            "14996                0                1                0                1   \n",
            "14997                0                0                0                0   \n",
            "14998                0                0                0                0   \n",
            "14999                0                0                0                0   \n",
            "\n",
            "       Advertisement 5  Advertisement 6  Advertisement 7  Advertisement 8  \\\n",
            "0                    0                1                0                0   \n",
            "1                    0                0                0                0   \n",
            "2                    0                0                1                0   \n",
            "3                    0                0                0                0   \n",
            "4                    0                0                0                0   \n",
            "...                ...              ...              ...              ...   \n",
            "14995                0                0                0                0   \n",
            "14996                0                0                0                0   \n",
            "14997                0                0                0                0   \n",
            "14998                0                0                0                0   \n",
            "14999                0                0                0                0   \n",
            "\n",
            "       Advertisement 9  Advertisement 10  \n",
            "0                    0                 0  \n",
            "1                    1                 0  \n",
            "2                    0                 0  \n",
            "3                    0                 0  \n",
            "4                    0                 0  \n",
            "...                ...               ...  \n",
            "14995                0                 0  \n",
            "14996                0                 0  \n",
            "14997                0                 0  \n",
            "14998                1                 0  \n",
            "14999                0                 0  \n",
            "\n",
            "[15000 rows x 10 columns]\n"
          ]
        }
      ]
    },
    {
      "cell_type": "markdown",
      "metadata": {
        "id": "8REFJFGC0lRN"
      },
      "source": [
        "## Implementation"
      ]
    },
    {
      "cell_type": "code",
      "source": [
        "import math as m\n",
        "T = 15000\n",
        "num_ads = 10\n",
        "ads_selected =[]\n",
        "numbers_of_selections = [0] * num_ads\n",
        "sum_of_rewards = [0] * num_ads\n",
        "total_reward = 0\n",
        "\n",
        "for n in range(0, T):\n",
        "  ad = 0\n",
        "  max_upper_confidence_bound = 0\n",
        "  for i in range(0, num_ads):\n",
        "     if ( numbers_of_selections[i] > 0):\n",
        "       average_reward = sum_of_rewards[i] / numbers_of_selections[i]\n",
        "       delta_i = m.sqrt(3/2 * m.log(n + 1) / numbers_of_selections[i])\n",
        "       upper_confidence_bound = average_reward + delta_i\n",
        "     else:\n",
        "       upper_confidence_bound = 1e400\n",
        "     if (upper_confidence_bound > max_upper_confidence_bound):\n",
        "       max_upper_confidence_bound = upper_confidence_bound\n",
        "       ad = i\n",
        "  ads_selected.append(ad)\n",
        "  numbers_of_selections[ad] = numbers_of_selections[ad] + 1\n",
        "  temp_rewards = dataset.values[n, ad]\n",
        "  sum_of_rewards[ad] = sum_of_rewards[ad] + temp_rewards\n",
        "  total_reward= total_reward + temp_rewards\n",
        "\n",
        "  \n",
        "\n",
        "\n",
        "\n",
        "      \n",
        "\n",
        "\n",
        "\n"
      ],
      "metadata": {
        "id": "JornwDArVVX2"
      },
      "execution_count": 24,
      "outputs": []
    },
    {
      "cell_type": "markdown",
      "metadata": {
        "id": "2QUFYaoH00H6"
      },
      "source": [
        "## Histogram Visualization"
      ]
    },
    {
      "cell_type": "code",
      "source": [
        "plt.hist(ads_selected)\n",
        "plt.title('Histogram of Facebook Ads Selections')\n",
        "plt.xlabel('Ads Number')\n",
        "plt.ylabel('Selection times of each ad')"
      ],
      "metadata": {
        "colab": {
          "base_uri": "https://localhost:8080/",
          "height": 312
        },
        "id": "iK_rjNR5L5eB",
        "outputId": "118b1801-b59a-447c-8669-bf313b3b1a5b"
      },
      "execution_count": 25,
      "outputs": [
        {
          "output_type": "execute_result",
          "data": {
            "text/plain": [
              "Text(0, 0.5, 'Selection times of each ad')"
            ]
          },
          "metadata": {},
          "execution_count": 25
        },
        {
          "output_type": "display_data",
          "data": {
            "text/plain": [
              "<Figure size 432x288 with 1 Axes>"
            ],
            "image/png": "[encoded data removed]"
          },
          "metadata": {
            "needs_background": "light"
          }
        }
      ]
    }
  ]
}